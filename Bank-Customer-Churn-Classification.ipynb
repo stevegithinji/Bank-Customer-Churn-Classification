{
 "cells": [
  {
   "cell_type": "markdown",
   "metadata": {},
   "source": [
    "![bank_customer_stock_photo](images/istockphoto-1194242628-612x612.jpg)"
   ]
  },
  {
   "cell_type": "markdown",
   "metadata": {},
   "source": [
    "# Bank Customers Churn Classification\n",
    "\n",
    "**Author:** Steve Githinji\n",
    "***"
   ]
  },
  {
   "cell_type": "markdown",
   "metadata": {},
   "source": [
    "## Business Understanding"
   ]
  },
  {
   "cell_type": "markdown",
   "metadata": {},
   "source": [
    "### Overview\n",
    "Customers discontinuing their relationship with a bank can have significant financial implications for the institution. Identifying customers who are likely to churn in advance will help the bank implement targeted retention strategies, thereby reducing customer attrition and maximizing profitability. Machine learning techniques can play a crucial role in predicting customer churn, enabling bank to take proactive measures to retain valuable customers.\n",
    "\n",
    "\n",
    "***"
   ]
  },
  {
   "cell_type": "markdown",
   "metadata": {},
   "source": [
    "### Business Problem\n",
    "The objective of this machine learning project is to develop a classification model that accurately predicts customer churn in the bank. By leveraging historical customer data, including demographics, account information, products and credit cards subscribed, and estimated salary, the model aims to identify patterns and indicators that suggest a higher likelihood of churn. The ultimate goal is to enable the bank to prioritize retention efforts and develop tailored strategies to retain customers at risk of churn.\n",
    "\n",
    "The key stakeholders in this project are the Bank Executives, Marketing and Retention Team and Customer Service Representives. The study seeks to answer the question \"Can we accurately predict which customers are likely to churn based on their demographics and account information?\" \n",
    "\n",
    "***"
   ]
  },
  {
   "cell_type": "markdown",
   "metadata": {},
   "source": [
    "## Data Understanding"
   ]
  },
  {
   "cell_type": "code",
   "execution_count": 1,
   "metadata": {},
   "outputs": [],
   "source": [
    "# IMport relevant packages\n",
    "import pandas as pd\n",
    "import numpy as np\n",
    "import seaborn as sns\n",
    "import matplotlib.pyplot as plt\n",
    "from sklearn.model_selection import train_test_split\n",
    "from sklearn.preprocessing import OneHotEncoder, MinMaxScaler\n",
    "from sklearn.linear_model import LogisticRegression\n",
    "from sklearn.metrics import confusion_matrix, ConfusionMatrixDisplay\n",
    "from sklearn.metrics import precision_score, recall_score, accuracy_score, f1_score, mean_squared_error\n",
    "from imblearn.over_sampling import SMOTE\n",
    "from sklearn.neighbors import KNeighborsClassifier\n",
    "from sklearn.model_selection import GridSearchCV\n",
    "from sklearn.ensemble import BaggingClassifier, RandomForestClassifier\n",
    "from sklearn.feature_selection import RFE\n",
    "from sklearn.ensemble import AdaBoostClassifier, GradientBoostingClassifier\n",
    "from sklearn.feature_selection import (VarianceThreshold, SelectKBest, f_regression, mutual_info_regression, \n",
    "    RFE, RFECV)"
   ]
  },
  {
   "cell_type": "markdown",
   "metadata": {},
   "source": [
    "Below, the CSV containing the Bank Customer Churn data was opened as a pandas DataFrame, and its contents inspected."
   ]
  },
  {
   "cell_type": "code",
   "execution_count": 2,
   "metadata": {},
   "outputs": [
    {
     "data": {
      "text/html": [
       "<div>\n",
       "<style scoped>\n",
       "    .dataframe tbody tr th:only-of-type {\n",
       "        vertical-align: middle;\n",
       "    }\n",
       "\n",
       "    .dataframe tbody tr th {\n",
       "        vertical-align: top;\n",
       "    }\n",
       "\n",
       "    .dataframe thead th {\n",
       "        text-align: right;\n",
       "    }\n",
       "</style>\n",
       "<table border=\"1\" class=\"dataframe\">\n",
       "  <thead>\n",
       "    <tr style=\"text-align: right;\">\n",
       "      <th></th>\n",
       "      <th>CustomerId</th>\n",
       "      <th>Surname</th>\n",
       "      <th>CreditScore</th>\n",
       "      <th>Geography</th>\n",
       "      <th>Gender</th>\n",
       "      <th>Age</th>\n",
       "      <th>Tenure</th>\n",
       "      <th>Balance</th>\n",
       "      <th>NumOfProducts</th>\n",
       "      <th>HasCrCard</th>\n",
       "      <th>IsActiveMember</th>\n",
       "      <th>EstimatedSalary</th>\n",
       "      <th>Exited</th>\n",
       "    </tr>\n",
       "    <tr>\n",
       "      <th>RowNumber</th>\n",
       "      <th></th>\n",
       "      <th></th>\n",
       "      <th></th>\n",
       "      <th></th>\n",
       "      <th></th>\n",
       "      <th></th>\n",
       "      <th></th>\n",
       "      <th></th>\n",
       "      <th></th>\n",
       "      <th></th>\n",
       "      <th></th>\n",
       "      <th></th>\n",
       "      <th></th>\n",
       "    </tr>\n",
       "  </thead>\n",
       "  <tbody>\n",
       "    <tr>\n",
       "      <th>1</th>\n",
       "      <td>15634602</td>\n",
       "      <td>Hargrave</td>\n",
       "      <td>619</td>\n",
       "      <td>France</td>\n",
       "      <td>Female</td>\n",
       "      <td>42</td>\n",
       "      <td>2</td>\n",
       "      <td>0.00</td>\n",
       "      <td>1</td>\n",
       "      <td>1</td>\n",
       "      <td>1</td>\n",
       "      <td>101348.88</td>\n",
       "      <td>1</td>\n",
       "    </tr>\n",
       "    <tr>\n",
       "      <th>2</th>\n",
       "      <td>15647311</td>\n",
       "      <td>Hill</td>\n",
       "      <td>608</td>\n",
       "      <td>Spain</td>\n",
       "      <td>Female</td>\n",
       "      <td>41</td>\n",
       "      <td>1</td>\n",
       "      <td>83807.86</td>\n",
       "      <td>1</td>\n",
       "      <td>0</td>\n",
       "      <td>1</td>\n",
       "      <td>112542.58</td>\n",
       "      <td>0</td>\n",
       "    </tr>\n",
       "    <tr>\n",
       "      <th>3</th>\n",
       "      <td>15619304</td>\n",
       "      <td>Onio</td>\n",
       "      <td>502</td>\n",
       "      <td>France</td>\n",
       "      <td>Female</td>\n",
       "      <td>42</td>\n",
       "      <td>8</td>\n",
       "      <td>159660.80</td>\n",
       "      <td>3</td>\n",
       "      <td>1</td>\n",
       "      <td>0</td>\n",
       "      <td>113931.57</td>\n",
       "      <td>1</td>\n",
       "    </tr>\n",
       "    <tr>\n",
       "      <th>4</th>\n",
       "      <td>15701354</td>\n",
       "      <td>Boni</td>\n",
       "      <td>699</td>\n",
       "      <td>France</td>\n",
       "      <td>Female</td>\n",
       "      <td>39</td>\n",
       "      <td>1</td>\n",
       "      <td>0.00</td>\n",
       "      <td>2</td>\n",
       "      <td>0</td>\n",
       "      <td>0</td>\n",
       "      <td>93826.63</td>\n",
       "      <td>0</td>\n",
       "    </tr>\n",
       "    <tr>\n",
       "      <th>5</th>\n",
       "      <td>15737888</td>\n",
       "      <td>Mitchell</td>\n",
       "      <td>850</td>\n",
       "      <td>Spain</td>\n",
       "      <td>Female</td>\n",
       "      <td>43</td>\n",
       "      <td>2</td>\n",
       "      <td>125510.82</td>\n",
       "      <td>1</td>\n",
       "      <td>1</td>\n",
       "      <td>1</td>\n",
       "      <td>79084.10</td>\n",
       "      <td>0</td>\n",
       "    </tr>\n",
       "  </tbody>\n",
       "</table>\n",
       "</div>"
      ],
      "text/plain": [
       "           CustomerId   Surname  CreditScore Geography  Gender  Age  Tenure  \\\n",
       "RowNumber                                                                     \n",
       "1            15634602  Hargrave          619    France  Female   42       2   \n",
       "2            15647311      Hill          608     Spain  Female   41       1   \n",
       "3            15619304      Onio          502    France  Female   42       8   \n",
       "4            15701354      Boni          699    France  Female   39       1   \n",
       "5            15737888  Mitchell          850     Spain  Female   43       2   \n",
       "\n",
       "             Balance  NumOfProducts  HasCrCard  IsActiveMember  \\\n",
       "RowNumber                                                        \n",
       "1               0.00              1          1               1   \n",
       "2           83807.86              1          0               1   \n",
       "3          159660.80              3          1               0   \n",
       "4               0.00              2          0               0   \n",
       "5          125510.82              1          1               1   \n",
       "\n",
       "           EstimatedSalary  Exited  \n",
       "RowNumber                           \n",
       "1                101348.88       1  \n",
       "2                112542.58       0  \n",
       "3                113931.57       1  \n",
       "4                 93826.63       0  \n",
       "5                 79084.10       0  "
      ]
     },
     "execution_count": 2,
     "metadata": {},
     "output_type": "execute_result"
    }
   ],
   "source": [
    "# Load dataset\n",
    "data = pd.read_csv('data/Churn_Modelling.csv', index_col='RowNumber')\n",
    "\n",
    "# Preview data\n",
    "data.head()"
   ]
  },
  {
   "cell_type": "code",
   "execution_count": 3,
   "metadata": {
    "scrolled": true
   },
   "outputs": [
    {
     "name": "stdout",
     "output_type": "stream",
     "text": [
      "<class 'pandas.core.frame.DataFrame'>\n",
      "Int64Index: 10000 entries, 1 to 10000\n",
      "Data columns (total 13 columns):\n",
      " #   Column           Non-Null Count  Dtype  \n",
      "---  ------           --------------  -----  \n",
      " 0   CustomerId       10000 non-null  int64  \n",
      " 1   Surname          10000 non-null  object \n",
      " 2   CreditScore      10000 non-null  int64  \n",
      " 3   Geography        10000 non-null  object \n",
      " 4   Gender           10000 non-null  object \n",
      " 5   Age              10000 non-null  int64  \n",
      " 6   Tenure           10000 non-null  int64  \n",
      " 7   Balance          10000 non-null  float64\n",
      " 8   NumOfProducts    10000 non-null  int64  \n",
      " 9   HasCrCard        10000 non-null  int64  \n",
      " 10  IsActiveMember   10000 non-null  int64  \n",
      " 11  EstimatedSalary  10000 non-null  float64\n",
      " 12  Exited           10000 non-null  int64  \n",
      "dtypes: float64(2), int64(8), object(3)\n",
      "memory usage: 1.1+ MB\n"
     ]
    }
   ],
   "source": [
    "#\n",
    "data.info()"
   ]
  },
  {
   "cell_type": "code",
   "execution_count": 4,
   "metadata": {
    "scrolled": true
   },
   "outputs": [
    {
     "data": {
      "text/html": [
       "<div>\n",
       "<style scoped>\n",
       "    .dataframe tbody tr th:only-of-type {\n",
       "        vertical-align: middle;\n",
       "    }\n",
       "\n",
       "    .dataframe tbody tr th {\n",
       "        vertical-align: top;\n",
       "    }\n",
       "\n",
       "    .dataframe thead th {\n",
       "        text-align: right;\n",
       "    }\n",
       "</style>\n",
       "<table border=\"1\" class=\"dataframe\">\n",
       "  <thead>\n",
       "    <tr style=\"text-align: right;\">\n",
       "      <th></th>\n",
       "      <th>CustomerId</th>\n",
       "      <th>CreditScore</th>\n",
       "      <th>Age</th>\n",
       "      <th>Tenure</th>\n",
       "      <th>Balance</th>\n",
       "      <th>NumOfProducts</th>\n",
       "      <th>HasCrCard</th>\n",
       "      <th>IsActiveMember</th>\n",
       "      <th>EstimatedSalary</th>\n",
       "      <th>Exited</th>\n",
       "    </tr>\n",
       "  </thead>\n",
       "  <tbody>\n",
       "    <tr>\n",
       "      <th>count</th>\n",
       "      <td>1.000000e+04</td>\n",
       "      <td>10000.000000</td>\n",
       "      <td>10000.000000</td>\n",
       "      <td>10000.000000</td>\n",
       "      <td>10000.000000</td>\n",
       "      <td>10000.000000</td>\n",
       "      <td>10000.00000</td>\n",
       "      <td>10000.000000</td>\n",
       "      <td>10000.000000</td>\n",
       "      <td>10000.000000</td>\n",
       "    </tr>\n",
       "    <tr>\n",
       "      <th>mean</th>\n",
       "      <td>1.569094e+07</td>\n",
       "      <td>650.528800</td>\n",
       "      <td>38.921800</td>\n",
       "      <td>5.012800</td>\n",
       "      <td>76485.889288</td>\n",
       "      <td>1.530200</td>\n",
       "      <td>0.70550</td>\n",
       "      <td>0.515100</td>\n",
       "      <td>100090.239881</td>\n",
       "      <td>0.203700</td>\n",
       "    </tr>\n",
       "    <tr>\n",
       "      <th>std</th>\n",
       "      <td>7.193619e+04</td>\n",
       "      <td>96.653299</td>\n",
       "      <td>10.487806</td>\n",
       "      <td>2.892174</td>\n",
       "      <td>62397.405202</td>\n",
       "      <td>0.581654</td>\n",
       "      <td>0.45584</td>\n",
       "      <td>0.499797</td>\n",
       "      <td>57510.492818</td>\n",
       "      <td>0.402769</td>\n",
       "    </tr>\n",
       "    <tr>\n",
       "      <th>min</th>\n",
       "      <td>1.556570e+07</td>\n",
       "      <td>350.000000</td>\n",
       "      <td>18.000000</td>\n",
       "      <td>0.000000</td>\n",
       "      <td>0.000000</td>\n",
       "      <td>1.000000</td>\n",
       "      <td>0.00000</td>\n",
       "      <td>0.000000</td>\n",
       "      <td>11.580000</td>\n",
       "      <td>0.000000</td>\n",
       "    </tr>\n",
       "    <tr>\n",
       "      <th>25%</th>\n",
       "      <td>1.562853e+07</td>\n",
       "      <td>584.000000</td>\n",
       "      <td>32.000000</td>\n",
       "      <td>3.000000</td>\n",
       "      <td>0.000000</td>\n",
       "      <td>1.000000</td>\n",
       "      <td>0.00000</td>\n",
       "      <td>0.000000</td>\n",
       "      <td>51002.110000</td>\n",
       "      <td>0.000000</td>\n",
       "    </tr>\n",
       "    <tr>\n",
       "      <th>50%</th>\n",
       "      <td>1.569074e+07</td>\n",
       "      <td>652.000000</td>\n",
       "      <td>37.000000</td>\n",
       "      <td>5.000000</td>\n",
       "      <td>97198.540000</td>\n",
       "      <td>1.000000</td>\n",
       "      <td>1.00000</td>\n",
       "      <td>1.000000</td>\n",
       "      <td>100193.915000</td>\n",
       "      <td>0.000000</td>\n",
       "    </tr>\n",
       "    <tr>\n",
       "      <th>75%</th>\n",
       "      <td>1.575323e+07</td>\n",
       "      <td>718.000000</td>\n",
       "      <td>44.000000</td>\n",
       "      <td>7.000000</td>\n",
       "      <td>127644.240000</td>\n",
       "      <td>2.000000</td>\n",
       "      <td>1.00000</td>\n",
       "      <td>1.000000</td>\n",
       "      <td>149388.247500</td>\n",
       "      <td>0.000000</td>\n",
       "    </tr>\n",
       "    <tr>\n",
       "      <th>max</th>\n",
       "      <td>1.581569e+07</td>\n",
       "      <td>850.000000</td>\n",
       "      <td>92.000000</td>\n",
       "      <td>10.000000</td>\n",
       "      <td>250898.090000</td>\n",
       "      <td>4.000000</td>\n",
       "      <td>1.00000</td>\n",
       "      <td>1.000000</td>\n",
       "      <td>199992.480000</td>\n",
       "      <td>1.000000</td>\n",
       "    </tr>\n",
       "  </tbody>\n",
       "</table>\n",
       "</div>"
      ],
      "text/plain": [
       "         CustomerId   CreditScore           Age        Tenure        Balance  \\\n",
       "count  1.000000e+04  10000.000000  10000.000000  10000.000000   10000.000000   \n",
       "mean   1.569094e+07    650.528800     38.921800      5.012800   76485.889288   \n",
       "std    7.193619e+04     96.653299     10.487806      2.892174   62397.405202   \n",
       "min    1.556570e+07    350.000000     18.000000      0.000000       0.000000   \n",
       "25%    1.562853e+07    584.000000     32.000000      3.000000       0.000000   \n",
       "50%    1.569074e+07    652.000000     37.000000      5.000000   97198.540000   \n",
       "75%    1.575323e+07    718.000000     44.000000      7.000000  127644.240000   \n",
       "max    1.581569e+07    850.000000     92.000000     10.000000  250898.090000   \n",
       "\n",
       "       NumOfProducts    HasCrCard  IsActiveMember  EstimatedSalary  \\\n",
       "count   10000.000000  10000.00000    10000.000000     10000.000000   \n",
       "mean        1.530200      0.70550        0.515100    100090.239881   \n",
       "std         0.581654      0.45584        0.499797     57510.492818   \n",
       "min         1.000000      0.00000        0.000000        11.580000   \n",
       "25%         1.000000      0.00000        0.000000     51002.110000   \n",
       "50%         1.000000      1.00000        1.000000    100193.915000   \n",
       "75%         2.000000      1.00000        1.000000    149388.247500   \n",
       "max         4.000000      1.00000        1.000000    199992.480000   \n",
       "\n",
       "             Exited  \n",
       "count  10000.000000  \n",
       "mean       0.203700  \n",
       "std        0.402769  \n",
       "min        0.000000  \n",
       "25%        0.000000  \n",
       "50%        0.000000  \n",
       "75%        0.000000  \n",
       "max        1.000000  "
      ]
     },
     "execution_count": 4,
     "metadata": {},
     "output_type": "execute_result"
    }
   ],
   "source": [
    "#\n",
    "data.describe()"
   ]
  },
  {
   "cell_type": "markdown",
   "metadata": {},
   "source": [
    "In the cell below, we check to see if there are any NaNs in the data:"
   ]
  },
  {
   "cell_type": "code",
   "execution_count": 5,
   "metadata": {},
   "outputs": [
    {
     "data": {
      "text/plain": [
       "CustomerId         0\n",
       "Surname            0\n",
       "CreditScore        0\n",
       "Geography          0\n",
       "Gender             0\n",
       "Age                0\n",
       "Tenure             0\n",
       "Balance            0\n",
       "NumOfProducts      0\n",
       "HasCrCard          0\n",
       "IsActiveMember     0\n",
       "EstimatedSalary    0\n",
       "Exited             0\n",
       "dtype: int64"
      ]
     },
     "execution_count": 5,
     "metadata": {},
     "output_type": "execute_result"
    }
   ],
   "source": [
    "#\n",
    "data.isna().sum()"
   ]
  },
  {
   "cell_type": "code",
   "execution_count": 6,
   "metadata": {},
   "outputs": [
    {
     "name": "stdout",
     "output_type": "stream",
     "text": [
      "Raw counts: \n",
      "\n",
      "0    7963\n",
      "1    2037\n",
      "Name: Exited, dtype: int64\n",
      "Normalized counts: \n",
      "\n",
      "0    0.7963\n",
      "1    0.2037\n",
      "Name: Exited, dtype: float64\n"
     ]
    }
   ],
   "source": [
    "print('Raw counts: \\n')\n",
    "print(data['Exited'].value_counts())\n",
    "print('Normalized counts: \\n')\n",
    "print(data['Exited'].value_counts(normalize=True))"
   ]
  },
  {
   "cell_type": "markdown",
   "metadata": {},
   "source": []
  },
  {
   "cell_type": "code",
   "execution_count": 7,
   "metadata": {},
   "outputs": [
    {
     "data": {
      "text/plain": [
       "CustomerId         10000\n",
       "EstimatedSalary     9999\n",
       "Balance             6382\n",
       "Surname             2932\n",
       "CreditScore          460\n",
       "Age                   70\n",
       "Tenure                11\n",
       "NumOfProducts          4\n",
       "Geography              3\n",
       "Exited                 2\n",
       "IsActiveMember         2\n",
       "HasCrCard              2\n",
       "Gender                 2\n",
       "dtype: int64"
      ]
     },
     "execution_count": 7,
     "metadata": {},
     "output_type": "execute_result"
    }
   ],
   "source": [
    "data.nunique().sort_values(ascending=False)"
   ]
  },
  {
   "cell_type": "code",
   "execution_count": 8,
   "metadata": {},
   "outputs": [
    {
     "data": {
      "text/plain": [
       "France     5014\n",
       "Germany    2509\n",
       "Spain      2477\n",
       "Name: Geography, dtype: int64"
      ]
     },
     "execution_count": 8,
     "metadata": {},
     "output_type": "execute_result"
    }
   ],
   "source": [
    "data['Geography'].value_counts()"
   ]
  },
  {
   "cell_type": "markdown",
   "metadata": {},
   "source": [
    "Half of the records are for customers living in France, while....."
   ]
  },
  {
   "cell_type": "code",
   "execution_count": 9,
   "metadata": {},
   "outputs": [],
   "source": [
    "def view_salary_balance_range(df, salaries, balances):\n",
    "    min_sal, max_sal = df[salaries].min(), df[salaries].max()\n",
    "    min_bal, max_bal = df[balances].min(), df[balances].max()\n",
    "    print(f\"The dataset contains customers whose salaries range from €{min_sal} to €{max_sal}. Their account balances range from {min_bal} to {max_bal}.\")"
   ]
  },
  {
   "cell_type": "code",
   "execution_count": 10,
   "metadata": {},
   "outputs": [
    {
     "name": "stdout",
     "output_type": "stream",
     "text": [
      "The dataset contains customers whose salaries range from €11.58 to €199992.48. Their account balances range from 0.0 to 250898.09.\n"
     ]
    }
   ],
   "source": [
    "view_salary_balance_range(data, 'EstimatedSalary', 'Balance')"
   ]
  },
  {
   "cell_type": "markdown",
   "metadata": {},
   "source": [
    "## Data Preparation"
   ]
  },
  {
   "cell_type": "markdown",
   "metadata": {},
   "source": [
    "The prediction target for this analysis is the churn status of a customer, described in the column `Exited`. Therefore the data was separated into X and y accordingly. The `CustomerId` and `Surname` columns are data artifacts and not true features. Therefore they were not included as predictors."
   ]
  },
  {
   "cell_type": "code",
   "execution_count": 11,
   "metadata": {},
   "outputs": [],
   "source": [
    "# Drop irrelevant columns  and assign predictors to X\n",
    "X = data.drop(columns=['Exited', 'CustomerId', 'Surname'], axis=1)\n",
    "\n",
    "# Assign outcome variable 'Exited' to y\n",
    "y = data['Exited']"
   ]
  },
  {
   "cell_type": "markdown",
   "metadata": {},
   "source": [
    "Next, we separate the data into a train set (75% of the full dataset) and a test set (25% of the full dataset) prior to performing any preprocessing steps. This was done before data preparation to avoid data leakage.  The treatment of the test data is therefore as similar as possible to how genuinely unknown data should be treated."
   ]
  },
  {
   "cell_type": "code",
   "execution_count": 12,
   "metadata": {},
   "outputs": [],
   "source": [
    "# Split the data into training and test sets\n",
    "X_train, X_test, y_train, y_test = train_test_split(X, y, random_state=11)"
   ]
  },
  {
   "cell_type": "markdown",
   "metadata": {},
   "source": [
    "### Categorical Features"
   ]
  },
  {
   "cell_type": "markdown",
   "metadata": {},
   "source": [
    " If we feed the current `X_train` into our scikit-learn Machine Learning models, it would crash. Hence convert all the categorical features into numbers."
   ]
  },
  {
   "cell_type": "code",
   "execution_count": 13,
   "metadata": {},
   "outputs": [
    {
     "data": {
      "text/plain": [
       "Index(['Geography', 'Gender'], dtype='object')"
      ]
     },
     "execution_count": 13,
     "metadata": {},
     "output_type": "execute_result"
    }
   ],
   "source": [
    "# Subset categorical columns into a new DataFrame \n",
    "X_train_categorical = X_train.select_dtypes(exclude=['int64', 'float64']).copy()\n",
    "\n",
    "# View categorical features\n",
    "X_train_categorical.columns"
   ]
  },
  {
   "cell_type": "code",
   "execution_count": 14,
   "metadata": {},
   "outputs": [
    {
     "data": {
      "text/html": [
       "<div>\n",
       "<style scoped>\n",
       "    .dataframe tbody tr th:only-of-type {\n",
       "        vertical-align: middle;\n",
       "    }\n",
       "\n",
       "    .dataframe tbody tr th {\n",
       "        vertical-align: top;\n",
       "    }\n",
       "\n",
       "    .dataframe thead th {\n",
       "        text-align: right;\n",
       "    }\n",
       "</style>\n",
       "<table border=\"1\" class=\"dataframe\">\n",
       "  <thead>\n",
       "    <tr style=\"text-align: right;\">\n",
       "      <th></th>\n",
       "      <th>Geography_Germany</th>\n",
       "      <th>Geography_Spain</th>\n",
       "      <th>Gender_Male</th>\n",
       "    </tr>\n",
       "    <tr>\n",
       "      <th>RowNumber</th>\n",
       "      <th></th>\n",
       "      <th></th>\n",
       "      <th></th>\n",
       "    </tr>\n",
       "  </thead>\n",
       "  <tbody>\n",
       "    <tr>\n",
       "      <th>2263</th>\n",
       "      <td>0</td>\n",
       "      <td>0</td>\n",
       "      <td>1</td>\n",
       "    </tr>\n",
       "    <tr>\n",
       "      <th>1455</th>\n",
       "      <td>0</td>\n",
       "      <td>1</td>\n",
       "      <td>0</td>\n",
       "    </tr>\n",
       "    <tr>\n",
       "      <th>3902</th>\n",
       "      <td>0</td>\n",
       "      <td>1</td>\n",
       "      <td>1</td>\n",
       "    </tr>\n",
       "    <tr>\n",
       "      <th>6247</th>\n",
       "      <td>0</td>\n",
       "      <td>0</td>\n",
       "      <td>1</td>\n",
       "    </tr>\n",
       "    <tr>\n",
       "      <th>1332</th>\n",
       "      <td>1</td>\n",
       "      <td>0</td>\n",
       "      <td>1</td>\n",
       "    </tr>\n",
       "    <tr>\n",
       "      <th>...</th>\n",
       "      <td>...</td>\n",
       "      <td>...</td>\n",
       "      <td>...</td>\n",
       "    </tr>\n",
       "    <tr>\n",
       "      <th>1294</th>\n",
       "      <td>0</td>\n",
       "      <td>0</td>\n",
       "      <td>1</td>\n",
       "    </tr>\n",
       "    <tr>\n",
       "      <th>4024</th>\n",
       "      <td>0</td>\n",
       "      <td>0</td>\n",
       "      <td>1</td>\n",
       "    </tr>\n",
       "    <tr>\n",
       "      <th>7260</th>\n",
       "      <td>0</td>\n",
       "      <td>1</td>\n",
       "      <td>1</td>\n",
       "    </tr>\n",
       "    <tr>\n",
       "      <th>5201</th>\n",
       "      <td>1</td>\n",
       "      <td>0</td>\n",
       "      <td>1</td>\n",
       "    </tr>\n",
       "    <tr>\n",
       "      <th>3776</th>\n",
       "      <td>1</td>\n",
       "      <td>0</td>\n",
       "      <td>1</td>\n",
       "    </tr>\n",
       "  </tbody>\n",
       "</table>\n",
       "<p>7500 rows × 3 columns</p>\n",
       "</div>"
      ],
      "text/plain": [
       "           Geography_Germany  Geography_Spain  Gender_Male\n",
       "RowNumber                                                 \n",
       "2263                       0                0            1\n",
       "1455                       0                1            0\n",
       "3902                       0                1            1\n",
       "6247                       0                0            1\n",
       "1332                       1                0            1\n",
       "...                      ...              ...          ...\n",
       "1294                       0                0            1\n",
       "4024                       0                0            1\n",
       "7260                       0                1            1\n",
       "5201                       1                0            1\n",
       "3776                       1                0            1\n",
       "\n",
       "[7500 rows x 3 columns]"
      ]
     },
     "execution_count": 14,
     "metadata": {},
     "output_type": "execute_result"
    }
   ],
   "source": [
    "\n",
    "X_train_ohe = pd.DataFrame(\n",
    "    pd.get_dummies(X_train_categorical, drop_first=True))\n",
    "X_train_ohe"
   ]
  },
  {
   "cell_type": "markdown",
   "metadata": {},
   "source": [
    "### Normalization"
   ]
  },
  {
   "cell_type": "markdown",
   "metadata": {},
   "source": [
    "Use the "
   ]
  },
  {
   "cell_type": "code",
   "execution_count": 15,
   "metadata": {
    "scrolled": false
   },
   "outputs": [
    {
     "data": {
      "text/html": [
       "<div>\n",
       "<style scoped>\n",
       "    .dataframe tbody tr th:only-of-type {\n",
       "        vertical-align: middle;\n",
       "    }\n",
       "\n",
       "    .dataframe tbody tr th {\n",
       "        vertical-align: top;\n",
       "    }\n",
       "\n",
       "    .dataframe thead th {\n",
       "        text-align: right;\n",
       "    }\n",
       "</style>\n",
       "<table border=\"1\" class=\"dataframe\">\n",
       "  <thead>\n",
       "    <tr style=\"text-align: right;\">\n",
       "      <th></th>\n",
       "      <th>CreditScore</th>\n",
       "      <th>Age</th>\n",
       "      <th>Tenure</th>\n",
       "      <th>Balance</th>\n",
       "      <th>NumOfProducts</th>\n",
       "      <th>HasCrCard</th>\n",
       "      <th>IsActiveMember</th>\n",
       "      <th>EstimatedSalary</th>\n",
       "    </tr>\n",
       "    <tr>\n",
       "      <th>RowNumber</th>\n",
       "      <th></th>\n",
       "      <th></th>\n",
       "      <th></th>\n",
       "      <th></th>\n",
       "      <th></th>\n",
       "      <th></th>\n",
       "      <th></th>\n",
       "      <th></th>\n",
       "    </tr>\n",
       "  </thead>\n",
       "  <tbody>\n",
       "    <tr>\n",
       "      <th>1294</th>\n",
       "      <td>641</td>\n",
       "      <td>30</td>\n",
       "      <td>2</td>\n",
       "      <td>87505.47</td>\n",
       "      <td>2</td>\n",
       "      <td>0</td>\n",
       "      <td>1</td>\n",
       "      <td>7278.57</td>\n",
       "    </tr>\n",
       "    <tr>\n",
       "      <th>4024</th>\n",
       "      <td>535</td>\n",
       "      <td>38</td>\n",
       "      <td>8</td>\n",
       "      <td>85982.07</td>\n",
       "      <td>1</td>\n",
       "      <td>1</td>\n",
       "      <td>0</td>\n",
       "      <td>9238.35</td>\n",
       "    </tr>\n",
       "    <tr>\n",
       "      <th>7260</th>\n",
       "      <td>625</td>\n",
       "      <td>32</td>\n",
       "      <td>7</td>\n",
       "      <td>106957.28</td>\n",
       "      <td>1</td>\n",
       "      <td>1</td>\n",
       "      <td>1</td>\n",
       "      <td>134794.02</td>\n",
       "    </tr>\n",
       "    <tr>\n",
       "      <th>5201</th>\n",
       "      <td>512</td>\n",
       "      <td>42</td>\n",
       "      <td>9</td>\n",
       "      <td>93955.83</td>\n",
       "      <td>2</td>\n",
       "      <td>1</td>\n",
       "      <td>0</td>\n",
       "      <td>14828.54</td>\n",
       "    </tr>\n",
       "    <tr>\n",
       "      <th>3776</th>\n",
       "      <td>528</td>\n",
       "      <td>22</td>\n",
       "      <td>5</td>\n",
       "      <td>93547.23</td>\n",
       "      <td>2</td>\n",
       "      <td>0</td>\n",
       "      <td>1</td>\n",
       "      <td>961.57</td>\n",
       "    </tr>\n",
       "  </tbody>\n",
       "</table>\n",
       "</div>"
      ],
      "text/plain": [
       "           CreditScore  Age  Tenure    Balance  NumOfProducts  HasCrCard  \\\n",
       "RowNumber                                                                  \n",
       "1294               641   30       2   87505.47              2          0   \n",
       "4024               535   38       8   85982.07              1          1   \n",
       "7260               625   32       7  106957.28              1          1   \n",
       "5201               512   42       9   93955.83              2          1   \n",
       "3776               528   22       5   93547.23              2          0   \n",
       "\n",
       "           IsActiveMember  EstimatedSalary  \n",
       "RowNumber                                   \n",
       "1294                    1          7278.57  \n",
       "4024                    0          9238.35  \n",
       "7260                    1        134794.02  \n",
       "5201                    0         14828.54  \n",
       "3776                    1           961.57  "
      ]
     },
     "execution_count": 15,
     "metadata": {},
     "output_type": "execute_result"
    }
   ],
   "source": [
    "numeric_features = ['CreditScore', 'Age','Tenure', 'Balance', 'NumOfProducts',\n",
    "                    'HasCrCard', 'IsActiveMember', 'EstimatedSalary']\n",
    "X_train_numeric = X_train[numeric_features].copy()\n",
    "X_train_numeric.tail()"
   ]
  },
  {
   "cell_type": "markdown",
   "metadata": {},
   "source": [
    "Use the MinMaxScaler to scale the training set."
   ]
  },
  {
   "cell_type": "code",
   "execution_count": 16,
   "metadata": {
    "scrolled": false
   },
   "outputs": [
    {
     "data": {
      "text/html": [
       "<div>\n",
       "<style scoped>\n",
       "    .dataframe tbody tr th:only-of-type {\n",
       "        vertical-align: middle;\n",
       "    }\n",
       "\n",
       "    .dataframe tbody tr th {\n",
       "        vertical-align: top;\n",
       "    }\n",
       "\n",
       "    .dataframe thead th {\n",
       "        text-align: right;\n",
       "    }\n",
       "</style>\n",
       "<table border=\"1\" class=\"dataframe\">\n",
       "  <thead>\n",
       "    <tr style=\"text-align: right;\">\n",
       "      <th></th>\n",
       "      <th>CreditScore</th>\n",
       "      <th>Age</th>\n",
       "      <th>Tenure</th>\n",
       "      <th>Balance</th>\n",
       "      <th>NumOfProducts</th>\n",
       "      <th>HasCrCard</th>\n",
       "      <th>IsActiveMember</th>\n",
       "      <th>EstimatedSalary</th>\n",
       "    </tr>\n",
       "    <tr>\n",
       "      <th>RowNumber</th>\n",
       "      <th></th>\n",
       "      <th></th>\n",
       "      <th></th>\n",
       "      <th></th>\n",
       "      <th></th>\n",
       "      <th></th>\n",
       "      <th></th>\n",
       "      <th></th>\n",
       "    </tr>\n",
       "  </thead>\n",
       "  <tbody>\n",
       "    <tr>\n",
       "      <th>2263</th>\n",
       "      <td>0.444</td>\n",
       "      <td>0.337838</td>\n",
       "      <td>0.2</td>\n",
       "      <td>0.633911</td>\n",
       "      <td>0.000000</td>\n",
       "      <td>1.0</td>\n",
       "      <td>0.0</td>\n",
       "      <td>0.132222</td>\n",
       "    </tr>\n",
       "    <tr>\n",
       "      <th>1455</th>\n",
       "      <td>0.342</td>\n",
       "      <td>0.216216</td>\n",
       "      <td>0.7</td>\n",
       "      <td>0.319280</td>\n",
       "      <td>0.000000</td>\n",
       "      <td>1.0</td>\n",
       "      <td>1.0</td>\n",
       "      <td>0.101183</td>\n",
       "    </tr>\n",
       "    <tr>\n",
       "      <th>3902</th>\n",
       "      <td>0.450</td>\n",
       "      <td>0.162162</td>\n",
       "      <td>0.2</td>\n",
       "      <td>0.000000</td>\n",
       "      <td>0.333333</td>\n",
       "      <td>1.0</td>\n",
       "      <td>1.0</td>\n",
       "      <td>0.411140</td>\n",
       "    </tr>\n",
       "    <tr>\n",
       "      <th>6247</th>\n",
       "      <td>0.566</td>\n",
       "      <td>0.297297</td>\n",
       "      <td>0.4</td>\n",
       "      <td>0.679710</td>\n",
       "      <td>0.000000</td>\n",
       "      <td>0.0</td>\n",
       "      <td>1.0</td>\n",
       "      <td>0.173331</td>\n",
       "    </tr>\n",
       "    <tr>\n",
       "      <th>1332</th>\n",
       "      <td>0.998</td>\n",
       "      <td>0.256757</td>\n",
       "      <td>0.7</td>\n",
       "      <td>0.647546</td>\n",
       "      <td>0.333333</td>\n",
       "      <td>1.0</td>\n",
       "      <td>1.0</td>\n",
       "      <td>0.086430</td>\n",
       "    </tr>\n",
       "    <tr>\n",
       "      <th>...</th>\n",
       "      <td>...</td>\n",
       "      <td>...</td>\n",
       "      <td>...</td>\n",
       "      <td>...</td>\n",
       "      <td>...</td>\n",
       "      <td>...</td>\n",
       "      <td>...</td>\n",
       "      <td>...</td>\n",
       "    </tr>\n",
       "    <tr>\n",
       "      <th>1294</th>\n",
       "      <td>0.582</td>\n",
       "      <td>0.162162</td>\n",
       "      <td>0.2</td>\n",
       "      <td>0.395000</td>\n",
       "      <td>0.333333</td>\n",
       "      <td>0.0</td>\n",
       "      <td>1.0</td>\n",
       "      <td>0.036342</td>\n",
       "    </tr>\n",
       "    <tr>\n",
       "      <th>4024</th>\n",
       "      <td>0.370</td>\n",
       "      <td>0.270270</td>\n",
       "      <td>0.8</td>\n",
       "      <td>0.388123</td>\n",
       "      <td>0.000000</td>\n",
       "      <td>1.0</td>\n",
       "      <td>0.0</td>\n",
       "      <td>0.046143</td>\n",
       "    </tr>\n",
       "    <tr>\n",
       "      <th>7260</th>\n",
       "      <td>0.550</td>\n",
       "      <td>0.189189</td>\n",
       "      <td>0.7</td>\n",
       "      <td>0.482806</td>\n",
       "      <td>0.000000</td>\n",
       "      <td>1.0</td>\n",
       "      <td>1.0</td>\n",
       "      <td>0.674050</td>\n",
       "    </tr>\n",
       "    <tr>\n",
       "      <th>5201</th>\n",
       "      <td>0.324</td>\n",
       "      <td>0.324324</td>\n",
       "      <td>0.9</td>\n",
       "      <td>0.424117</td>\n",
       "      <td>0.333333</td>\n",
       "      <td>1.0</td>\n",
       "      <td>0.0</td>\n",
       "      <td>0.074100</td>\n",
       "    </tr>\n",
       "    <tr>\n",
       "      <th>3776</th>\n",
       "      <td>0.356</td>\n",
       "      <td>0.054054</td>\n",
       "      <td>0.5</td>\n",
       "      <td>0.422273</td>\n",
       "      <td>0.333333</td>\n",
       "      <td>0.0</td>\n",
       "      <td>1.0</td>\n",
       "      <td>0.004751</td>\n",
       "    </tr>\n",
       "  </tbody>\n",
       "</table>\n",
       "<p>7500 rows × 8 columns</p>\n",
       "</div>"
      ],
      "text/plain": [
       "           CreditScore       Age  Tenure   Balance  NumOfProducts  HasCrCard  \\\n",
       "RowNumber                                                                      \n",
       "2263             0.444  0.337838     0.2  0.633911       0.000000        1.0   \n",
       "1455             0.342  0.216216     0.7  0.319280       0.000000        1.0   \n",
       "3902             0.450  0.162162     0.2  0.000000       0.333333        1.0   \n",
       "6247             0.566  0.297297     0.4  0.679710       0.000000        0.0   \n",
       "1332             0.998  0.256757     0.7  0.647546       0.333333        1.0   \n",
       "...                ...       ...     ...       ...            ...        ...   \n",
       "1294             0.582  0.162162     0.2  0.395000       0.333333        0.0   \n",
       "4024             0.370  0.270270     0.8  0.388123       0.000000        1.0   \n",
       "7260             0.550  0.189189     0.7  0.482806       0.000000        1.0   \n",
       "5201             0.324  0.324324     0.9  0.424117       0.333333        1.0   \n",
       "3776             0.356  0.054054     0.5  0.422273       0.333333        0.0   \n",
       "\n",
       "           IsActiveMember  EstimatedSalary  \n",
       "RowNumber                                   \n",
       "2263                  0.0         0.132222  \n",
       "1455                  1.0         0.101183  \n",
       "3902                  1.0         0.411140  \n",
       "6247                  1.0         0.173331  \n",
       "1332                  1.0         0.086430  \n",
       "...                   ...              ...  \n",
       "1294                  1.0         0.036342  \n",
       "4024                  0.0         0.046143  \n",
       "7260                  1.0         0.674050  \n",
       "5201                  0.0         0.074100  \n",
       "3776                  1.0         0.004751  \n",
       "\n",
       "[7500 rows x 8 columns]"
      ]
     },
     "execution_count": 16,
     "metadata": {},
     "output_type": "execute_result"
    }
   ],
   "source": [
    "# Instantiate scaler\n",
    "scaler = MinMaxScaler()\n",
    "\n",
    "# Fit the scaler on the numerical data\n",
    "scaler.fit(X_train_numeric)\n",
    "\n",
    "#\n",
    "X_train_scaled = pd.DataFrame(\n",
    "    scaler.transform(X_train_numeric),\n",
    "    # Specify index to ensure we can concatenate with other columns\n",
    "    index=X_train_numeric.index,\n",
    "    columns=X_train_numeric.columns\n",
    ")\n",
    "X_train_scaled"
   ]
  },
  {
   "cell_type": "markdown",
   "metadata": {},
   "source": [
    "Finally, concatenate the preprocessed Ddtaframes `X_tain_scaled` and `X_train_ohe` to a new dataframe `X_train_full`."
   ]
  },
  {
   "cell_type": "code",
   "execution_count": 17,
   "metadata": {},
   "outputs": [
    {
     "data": {
      "text/html": [
       "<div>\n",
       "<style scoped>\n",
       "    .dataframe tbody tr th:only-of-type {\n",
       "        vertical-align: middle;\n",
       "    }\n",
       "\n",
       "    .dataframe tbody tr th {\n",
       "        vertical-align: top;\n",
       "    }\n",
       "\n",
       "    .dataframe thead th {\n",
       "        text-align: right;\n",
       "    }\n",
       "</style>\n",
       "<table border=\"1\" class=\"dataframe\">\n",
       "  <thead>\n",
       "    <tr style=\"text-align: right;\">\n",
       "      <th></th>\n",
       "      <th>CreditScore</th>\n",
       "      <th>Age</th>\n",
       "      <th>Tenure</th>\n",
       "      <th>Balance</th>\n",
       "      <th>NumOfProducts</th>\n",
       "      <th>HasCrCard</th>\n",
       "      <th>IsActiveMember</th>\n",
       "      <th>EstimatedSalary</th>\n",
       "      <th>Geography_Germany</th>\n",
       "      <th>Geography_Spain</th>\n",
       "      <th>Gender_Male</th>\n",
       "    </tr>\n",
       "    <tr>\n",
       "      <th>RowNumber</th>\n",
       "      <th></th>\n",
       "      <th></th>\n",
       "      <th></th>\n",
       "      <th></th>\n",
       "      <th></th>\n",
       "      <th></th>\n",
       "      <th></th>\n",
       "      <th></th>\n",
       "      <th></th>\n",
       "      <th></th>\n",
       "      <th></th>\n",
       "    </tr>\n",
       "  </thead>\n",
       "  <tbody>\n",
       "    <tr>\n",
       "      <th>2263</th>\n",
       "      <td>0.444</td>\n",
       "      <td>0.337838</td>\n",
       "      <td>0.2</td>\n",
       "      <td>0.633911</td>\n",
       "      <td>0.000000</td>\n",
       "      <td>1.0</td>\n",
       "      <td>0.0</td>\n",
       "      <td>0.132222</td>\n",
       "      <td>0</td>\n",
       "      <td>0</td>\n",
       "      <td>1</td>\n",
       "    </tr>\n",
       "    <tr>\n",
       "      <th>1455</th>\n",
       "      <td>0.342</td>\n",
       "      <td>0.216216</td>\n",
       "      <td>0.7</td>\n",
       "      <td>0.319280</td>\n",
       "      <td>0.000000</td>\n",
       "      <td>1.0</td>\n",
       "      <td>1.0</td>\n",
       "      <td>0.101183</td>\n",
       "      <td>0</td>\n",
       "      <td>1</td>\n",
       "      <td>0</td>\n",
       "    </tr>\n",
       "    <tr>\n",
       "      <th>3902</th>\n",
       "      <td>0.450</td>\n",
       "      <td>0.162162</td>\n",
       "      <td>0.2</td>\n",
       "      <td>0.000000</td>\n",
       "      <td>0.333333</td>\n",
       "      <td>1.0</td>\n",
       "      <td>1.0</td>\n",
       "      <td>0.411140</td>\n",
       "      <td>0</td>\n",
       "      <td>1</td>\n",
       "      <td>1</td>\n",
       "    </tr>\n",
       "    <tr>\n",
       "      <th>6247</th>\n",
       "      <td>0.566</td>\n",
       "      <td>0.297297</td>\n",
       "      <td>0.4</td>\n",
       "      <td>0.679710</td>\n",
       "      <td>0.000000</td>\n",
       "      <td>0.0</td>\n",
       "      <td>1.0</td>\n",
       "      <td>0.173331</td>\n",
       "      <td>0</td>\n",
       "      <td>0</td>\n",
       "      <td>1</td>\n",
       "    </tr>\n",
       "    <tr>\n",
       "      <th>1332</th>\n",
       "      <td>0.998</td>\n",
       "      <td>0.256757</td>\n",
       "      <td>0.7</td>\n",
       "      <td>0.647546</td>\n",
       "      <td>0.333333</td>\n",
       "      <td>1.0</td>\n",
       "      <td>1.0</td>\n",
       "      <td>0.086430</td>\n",
       "      <td>1</td>\n",
       "      <td>0</td>\n",
       "      <td>1</td>\n",
       "    </tr>\n",
       "    <tr>\n",
       "      <th>...</th>\n",
       "      <td>...</td>\n",
       "      <td>...</td>\n",
       "      <td>...</td>\n",
       "      <td>...</td>\n",
       "      <td>...</td>\n",
       "      <td>...</td>\n",
       "      <td>...</td>\n",
       "      <td>...</td>\n",
       "      <td>...</td>\n",
       "      <td>...</td>\n",
       "      <td>...</td>\n",
       "    </tr>\n",
       "    <tr>\n",
       "      <th>1294</th>\n",
       "      <td>0.582</td>\n",
       "      <td>0.162162</td>\n",
       "      <td>0.2</td>\n",
       "      <td>0.395000</td>\n",
       "      <td>0.333333</td>\n",
       "      <td>0.0</td>\n",
       "      <td>1.0</td>\n",
       "      <td>0.036342</td>\n",
       "      <td>0</td>\n",
       "      <td>0</td>\n",
       "      <td>1</td>\n",
       "    </tr>\n",
       "    <tr>\n",
       "      <th>4024</th>\n",
       "      <td>0.370</td>\n",
       "      <td>0.270270</td>\n",
       "      <td>0.8</td>\n",
       "      <td>0.388123</td>\n",
       "      <td>0.000000</td>\n",
       "      <td>1.0</td>\n",
       "      <td>0.0</td>\n",
       "      <td>0.046143</td>\n",
       "      <td>0</td>\n",
       "      <td>0</td>\n",
       "      <td>1</td>\n",
       "    </tr>\n",
       "    <tr>\n",
       "      <th>7260</th>\n",
       "      <td>0.550</td>\n",
       "      <td>0.189189</td>\n",
       "      <td>0.7</td>\n",
       "      <td>0.482806</td>\n",
       "      <td>0.000000</td>\n",
       "      <td>1.0</td>\n",
       "      <td>1.0</td>\n",
       "      <td>0.674050</td>\n",
       "      <td>0</td>\n",
       "      <td>1</td>\n",
       "      <td>1</td>\n",
       "    </tr>\n",
       "    <tr>\n",
       "      <th>5201</th>\n",
       "      <td>0.324</td>\n",
       "      <td>0.324324</td>\n",
       "      <td>0.9</td>\n",
       "      <td>0.424117</td>\n",
       "      <td>0.333333</td>\n",
       "      <td>1.0</td>\n",
       "      <td>0.0</td>\n",
       "      <td>0.074100</td>\n",
       "      <td>1</td>\n",
       "      <td>0</td>\n",
       "      <td>1</td>\n",
       "    </tr>\n",
       "    <tr>\n",
       "      <th>3776</th>\n",
       "      <td>0.356</td>\n",
       "      <td>0.054054</td>\n",
       "      <td>0.5</td>\n",
       "      <td>0.422273</td>\n",
       "      <td>0.333333</td>\n",
       "      <td>0.0</td>\n",
       "      <td>1.0</td>\n",
       "      <td>0.004751</td>\n",
       "      <td>1</td>\n",
       "      <td>0</td>\n",
       "      <td>1</td>\n",
       "    </tr>\n",
       "  </tbody>\n",
       "</table>\n",
       "<p>7500 rows × 11 columns</p>\n",
       "</div>"
      ],
      "text/plain": [
       "           CreditScore       Age  Tenure   Balance  NumOfProducts  HasCrCard  \\\n",
       "RowNumber                                                                      \n",
       "2263             0.444  0.337838     0.2  0.633911       0.000000        1.0   \n",
       "1455             0.342  0.216216     0.7  0.319280       0.000000        1.0   \n",
       "3902             0.450  0.162162     0.2  0.000000       0.333333        1.0   \n",
       "6247             0.566  0.297297     0.4  0.679710       0.000000        0.0   \n",
       "1332             0.998  0.256757     0.7  0.647546       0.333333        1.0   \n",
       "...                ...       ...     ...       ...            ...        ...   \n",
       "1294             0.582  0.162162     0.2  0.395000       0.333333        0.0   \n",
       "4024             0.370  0.270270     0.8  0.388123       0.000000        1.0   \n",
       "7260             0.550  0.189189     0.7  0.482806       0.000000        1.0   \n",
       "5201             0.324  0.324324     0.9  0.424117       0.333333        1.0   \n",
       "3776             0.356  0.054054     0.5  0.422273       0.333333        0.0   \n",
       "\n",
       "           IsActiveMember  EstimatedSalary  Geography_Germany  \\\n",
       "RowNumber                                                       \n",
       "2263                  0.0         0.132222                  0   \n",
       "1455                  1.0         0.101183                  0   \n",
       "3902                  1.0         0.411140                  0   \n",
       "6247                  1.0         0.173331                  0   \n",
       "1332                  1.0         0.086430                  1   \n",
       "...                   ...              ...                ...   \n",
       "1294                  1.0         0.036342                  0   \n",
       "4024                  0.0         0.046143                  0   \n",
       "7260                  1.0         0.674050                  0   \n",
       "5201                  0.0         0.074100                  1   \n",
       "3776                  1.0         0.004751                  1   \n",
       "\n",
       "           Geography_Spain  Gender_Male  \n",
       "RowNumber                                \n",
       "2263                     0            1  \n",
       "1455                     1            0  \n",
       "3902                     1            1  \n",
       "6247                     0            1  \n",
       "1332                     0            1  \n",
       "...                    ...          ...  \n",
       "1294                     0            1  \n",
       "4024                     0            1  \n",
       "7260                     1            1  \n",
       "5201                     0            1  \n",
       "3776                     0            1  \n",
       "\n",
       "[7500 rows x 11 columns]"
      ]
     },
     "execution_count": 17,
     "metadata": {},
     "output_type": "execute_result"
    }
   ],
   "source": [
    "#\n",
    "X_train_full = pd.concat([X_train_scaled, X_train_ohe], axis=1)\n",
    "\n",
    "#\n",
    "X_train_full"
   ]
  },
  {
   "cell_type": "markdown",
   "metadata": {},
   "source": [
    "The same preprocessing process was applied to the test data, so that models' performance can be evaluated on unseen data."
   ]
  },
  {
   "cell_type": "code",
   "execution_count": 18,
   "metadata": {},
   "outputs": [
    {
     "data": {
      "text/html": [
       "<div>\n",
       "<style scoped>\n",
       "    .dataframe tbody tr th:only-of-type {\n",
       "        vertical-align: middle;\n",
       "    }\n",
       "\n",
       "    .dataframe tbody tr th {\n",
       "        vertical-align: top;\n",
       "    }\n",
       "\n",
       "    .dataframe thead th {\n",
       "        text-align: right;\n",
       "    }\n",
       "</style>\n",
       "<table border=\"1\" class=\"dataframe\">\n",
       "  <thead>\n",
       "    <tr style=\"text-align: right;\">\n",
       "      <th></th>\n",
       "      <th>CreditScore</th>\n",
       "      <th>Age</th>\n",
       "      <th>Tenure</th>\n",
       "      <th>Balance</th>\n",
       "      <th>NumOfProducts</th>\n",
       "      <th>HasCrCard</th>\n",
       "      <th>IsActiveMember</th>\n",
       "      <th>EstimatedSalary</th>\n",
       "      <th>Geography_Germany</th>\n",
       "      <th>Geography_Spain</th>\n",
       "      <th>Gender_Male</th>\n",
       "    </tr>\n",
       "    <tr>\n",
       "      <th>RowNumber</th>\n",
       "      <th></th>\n",
       "      <th></th>\n",
       "      <th></th>\n",
       "      <th></th>\n",
       "      <th></th>\n",
       "      <th></th>\n",
       "      <th></th>\n",
       "      <th></th>\n",
       "      <th></th>\n",
       "      <th></th>\n",
       "      <th></th>\n",
       "    </tr>\n",
       "  </thead>\n",
       "  <tbody>\n",
       "    <tr>\n",
       "      <th>7653</th>\n",
       "      <td>0.708</td>\n",
       "      <td>0.081081</td>\n",
       "      <td>0.2</td>\n",
       "      <td>0.668963</td>\n",
       "      <td>0.333333</td>\n",
       "      <td>1.0</td>\n",
       "      <td>0.0</td>\n",
       "      <td>0.914004</td>\n",
       "      <td>0</td>\n",
       "      <td>0</td>\n",
       "      <td>1</td>\n",
       "    </tr>\n",
       "    <tr>\n",
       "      <th>7828</th>\n",
       "      <td>0.510</td>\n",
       "      <td>0.310811</td>\n",
       "      <td>1.0</td>\n",
       "      <td>0.000000</td>\n",
       "      <td>0.333333</td>\n",
       "      <td>0.0</td>\n",
       "      <td>1.0</td>\n",
       "      <td>0.486107</td>\n",
       "      <td>0</td>\n",
       "      <td>0</td>\n",
       "      <td>1</td>\n",
       "    </tr>\n",
       "    <tr>\n",
       "      <th>5170</th>\n",
       "      <td>0.602</td>\n",
       "      <td>0.175676</td>\n",
       "      <td>0.7</td>\n",
       "      <td>0.622969</td>\n",
       "      <td>0.333333</td>\n",
       "      <td>1.0</td>\n",
       "      <td>0.0</td>\n",
       "      <td>0.649638</td>\n",
       "      <td>1</td>\n",
       "      <td>0</td>\n",
       "      <td>1</td>\n",
       "    </tr>\n",
       "    <tr>\n",
       "      <th>9313</th>\n",
       "      <td>0.458</td>\n",
       "      <td>0.297297</td>\n",
       "      <td>1.0</td>\n",
       "      <td>0.204976</td>\n",
       "      <td>0.333333</td>\n",
       "      <td>1.0</td>\n",
       "      <td>0.0</td>\n",
       "      <td>0.093626</td>\n",
       "      <td>1</td>\n",
       "      <td>0</td>\n",
       "      <td>1</td>\n",
       "    </tr>\n",
       "    <tr>\n",
       "      <th>4021</th>\n",
       "      <td>0.742</td>\n",
       "      <td>0.324324</td>\n",
       "      <td>0.4</td>\n",
       "      <td>0.464657</td>\n",
       "      <td>0.000000</td>\n",
       "      <td>0.0</td>\n",
       "      <td>0.0</td>\n",
       "      <td>0.005883</td>\n",
       "      <td>0</td>\n",
       "      <td>0</td>\n",
       "      <td>1</td>\n",
       "    </tr>\n",
       "  </tbody>\n",
       "</table>\n",
       "</div>"
      ],
      "text/plain": [
       "           CreditScore       Age  Tenure   Balance  NumOfProducts  HasCrCard  \\\n",
       "RowNumber                                                                      \n",
       "7653             0.708  0.081081     0.2  0.668963       0.333333        1.0   \n",
       "7828             0.510  0.310811     1.0  0.000000       0.333333        0.0   \n",
       "5170             0.602  0.175676     0.7  0.622969       0.333333        1.0   \n",
       "9313             0.458  0.297297     1.0  0.204976       0.333333        1.0   \n",
       "4021             0.742  0.324324     0.4  0.464657       0.000000        0.0   \n",
       "\n",
       "           IsActiveMember  EstimatedSalary  Geography_Germany  \\\n",
       "RowNumber                                                       \n",
       "7653                  0.0         0.914004                  0   \n",
       "7828                  1.0         0.486107                  0   \n",
       "5170                  0.0         0.649638                  1   \n",
       "9313                  0.0         0.093626                  1   \n",
       "4021                  0.0         0.005883                  0   \n",
       "\n",
       "           Geography_Spain  Gender_Male  \n",
       "RowNumber                                \n",
       "7653                     0            1  \n",
       "7828                     0            1  \n",
       "5170                     0            1  \n",
       "9313                     0            1  \n",
       "4021                     0            1  "
      ]
     },
     "execution_count": 18,
     "metadata": {},
     "output_type": "execute_result"
    }
   ],
   "source": [
    "# Subset categorical columns into a new DataFrame \n",
    "X_test_categorical = X_test.select_dtypes(exclude=['int64', 'float64']).copy()\n",
    "\n",
    "# Handling categorical data\n",
    "X_test_ohe = pd.DataFrame(\n",
    "    pd.get_dummies(X_test_categorical, drop_first=True))\n",
    "\n",
    "# Normalization numerical predictors\n",
    "X_test_numeric = X_test[numeric_features].copy()\n",
    "X_test_scaled = pd.DataFrame(\n",
    "    scaler.transform(X_test_numeric),\n",
    "    index=X_test_numeric.index,\n",
    "    columns=X_test_numeric.columns\n",
    ")\n",
    "\n",
    "# Concatenating categorical and numeric data\n",
    "X_test_full = pd.concat([X_test_scaled, X_test_ohe], axis=1)\n",
    "\n",
    "# Preview DataFrame\n",
    "X_test_full.tail()"
   ]
  },
  {
   "cell_type": "markdown",
   "metadata": {},
   "source": [
    "## Modelling"
   ]
  },
  {
   "cell_type": "markdown",
   "metadata": {},
   "source": [
    "### Evaluation Metrics\n",
    "Precision was chosen as one of the evaluation metrics for the performance of models.  Precision is the ratio between the True Positives and all the Predicted Positives. It allows us to answer the following question:\n",
    "> \"Out of all the times the model said a customer churned, how many times did the customer in question actually churn?\"\n",
    "\n",
    "Interpreting precision on its own can misleading. This is why accuracy was also included as an evaluation metric.Accuracy is intuitive because it allows us to measure the total number of predictions a model gets right, including both True Positives and\n",
    "True Negatives. It allows us to answer the following question:\n",
    "> \"Out of all the predictions our model made, what percentage were correct?\"\n",
    "\n",
    "The error based metric used was Root Mean Squared Error (RMSE). It was used to measure the average magnitude of the differences between the predicted values and the actual (observed) values. It was also used to measure the level of overfitting in different models by looking at the magnitude of the difference between training set RMSE and testing set RMSE.\n"
   ]
  },
  {
   "cell_type": "markdown",
   "metadata": {},
   "source": [
    "### Model 1: Baseline Logistic Regression Model"
   ]
  },
  {
   "cell_type": "markdown",
   "metadata": {},
   "source": [
    "After preprocessing all the columns, an initial baseline model was built. This model represents a naive reference point for evaluating the performance of more sophisticated models that will be built. It provided a benchmark or starting point for comparison and established initial metrics that other models tried to improve on.\n",
    "\n",
    "The baseline model used is a Logistic Regression model. In scikit-learn, this is done by first creating an instance of the `LogisticRegression` class. From there, use the `.fit()` method from the class instance to fit a model to the training data."
   ]
  },
  {
   "cell_type": "code",
   "execution_count": 22,
   "metadata": {},
   "outputs": [],
   "source": [
    "# Instantiate the model\n",
    "logreg = LogisticRegression(fit_intercept=False, C=1e12, solver='liblinear')\n",
    "\n",
    "# Fit model on training features\n",
    "baseline_model_log = logreg.fit(X_train_full, y_train)"
   ]
  },
  {
   "cell_type": "markdown",
   "metadata": {},
   "source": [
    "How does the model perform on the training and test data?\n",
    "\n",
    "To answer this, first predict class labels for samples in `X_train_full` and `X_test_full` using the `predict()` method."
   ]
  },
  {
   "cell_type": "code",
   "execution_count": 23,
   "metadata": {},
   "outputs": [],
   "source": [
    "# Generate predictions for both sets\n",
    "y_hat_train = logreg.predict(X_train_full)\n",
    "y_hat_test = logreg.predict(X_test_full)"
   ]
  },
  {
   "cell_type": "markdown",
   "metadata": {},
   "source": [
    "To evaluate the model, a function that plots a confusion matrix of the test data predictions was defined. Another function that outputs evaluation metrics was also defined."
   ]
  },
  {
   "cell_type": "code",
   "execution_count": 24,
   "metadata": {},
   "outputs": [],
   "source": [
    "# Function that plots confusion matrix\n",
    "def cnf_matrix(model, y_test, y_test_preds):\n",
    "    \"\"\"\n",
    "    Function takes in a model, label data and its corresponding\n",
    "    predictions, then plots a confusion matrix\n",
    "    \"\"\"\n",
    "    cnf_matrix = confusion_matrix(y_test, y_test_preds)\n",
    "    disp = ConfusionMatrixDisplay(confusion_matrix=cnf_matrix, display_labels=model.classes_)\n",
    "    disp.plot(cmap=plt.cm.Blues)"
   ]
  },
  {
   "cell_type": "code",
   "execution_count": 25,
   "metadata": {},
   "outputs": [],
   "source": [
    "# Function that outputs evaluation metrics\n",
    "def print_metrics(y_train, y_hat_train, y_test, y_hat_test):\n",
    "    \"\"\"\n",
    "    Function takes in actual y values and their model predictions\n",
    "    for training  and test data and outputs precision, accuracy\n",
    "    and RMSE metrics\n",
    "    \"\"\"\n",
    "    print('Training Precision: ', precision_score(y_train, y_hat_train))\n",
    "    print('Testing Precision: ', precision_score(y_test, y_hat_test))\n",
    "    print('\\n')\n",
    "    \n",
    "    print('Training Accuracy: ', accuracy_score(y_train, y_hat_train))\n",
    "    print('Testing Accuracy: ', accuracy_score(y_test, y_hat_test))\n",
    "    print('\\n')\n",
    "    \n",
    "    print('Training RMSE:', mean_squared_error(y_train, y_hat_train, squared=False))\n",
    "    print('Testing RMSE:', mean_squared_error(y_test, y_hat_test, squared=False))"
   ]
  },
  {
   "cell_type": "code",
   "execution_count": 26,
   "metadata": {},
   "outputs": [
    {
     "data": {
      "image/png": "[encoded data removed]",
      "text/plain": [
       "<Figure size 432x288 with 2 Axes>"
      ]
     },
     "metadata": {
      "needs_background": "light"
     },
     "output_type": "display_data"
    }
   ],
   "source": [
    "# Call on cnf_matrix function to display model's confusion matrix\n",
    "cnf_matrix(logreg, y_test, y_hat_test)"
   ]
  },
  {
   "cell_type": "code",
   "execution_count": 27,
   "metadata": {},
   "outputs": [
    {
     "name": "stdout",
     "output_type": "stream",
     "text": [
      "Training Precision:  0.5813084112149532\n",
      "Testing Precision:  0.5915492957746479\n",
      "\n",
      "\n",
      "Training Accuracy:  0.8092\n",
      "Testing Accuracy:  0.808\n",
      "\n",
      "\n",
      "Training RMSE: 0.4368065933568311\n",
      "Testing RMSE: 0.4381780460041329\n"
     ]
    }
   ],
   "source": [
    "# Use print_metrics function to display evaluation metrics\n",
    "print_metrics(y_train, y_hat_train, y_test, y_hat_test)"
   ]
  },
  {
   "cell_type": "markdown",
   "metadata": {},
   "source": [
    "The model is mildly overfitting as seen with the slightly `higher Testing RMSE`. The model is about `81% accurate` in its predictions for both the training and test data. It has `precision` scores of `58%` and `59%` on the training and test data respectively. Moving forward, the objective is to improve on these classification metrics. \n",
    "\n",
    "The target is an accuracy of 90%, precision of 80% and reduce the RMSE as much as possible. To do this, there was an iteration through several models to try and achieve these targets."
   ]
  },
  {
   "cell_type": "markdown",
   "metadata": {},
   "source": [
    "### Model 2: K-Nearest Neighbors"
   ]
  },
  {
   "cell_type": "markdown",
   "metadata": {},
   "source": [
    "After the baseline model, the first model built using the distance-base K-Nearest Neighbors (KNN) classifier. The default values were used such as `n_neighbors` of 5 and `minkowski` as the distance computation metric."
   ]
  },
  {
   "cell_type": "code",
   "execution_count": 25,
   "metadata": {},
   "outputs": [],
   "source": [
    "# Instantiate classifier implementing k-nearest neighbors vote\n",
    "clf = KNeighborsClassifier()\n",
    "\n",
    "# Fit the classifier on the training data\n",
    "clf.fit(X_train_full, y_train)\n",
    "\n",
    "# Generate predictions to training data/labels\n",
    "y_train_knn_preds = clf.predict(X_train_full)\n",
    "y_test_knn_preds = clf.predict(X_test_full)"
   ]
  },
  {
   "cell_type": "markdown",
   "metadata": {},
   "source": [
    "To evaluate this vanilla KNN model, plot the confusion matrix and display precision, accuracy and RMSE classification metrics."
   ]
  },
  {
   "cell_type": "code",
   "execution_count": 28,
   "metadata": {},
   "outputs": [
    {
     "name": "stdout",
     "output_type": "stream",
     "text": [
      "Training Precision:  0.7844925883694412\n",
      "Testing Precision:  0.547945205479452\n",
      "\n",
      "\n",
      "Training Accuracy:  0.8641333333333333\n",
      "Testing Accuracy:  0.8036\n",
      "\n",
      "\n",
      "Training RMSE: 0.36860095858077563\n",
      "Testing RMSE: 0.44317039612320674\n"
     ]
    },
    {
     "data": {
      "image/png": "[encoded data removed]",
      "text/plain": [
       "<Figure size 432x288 with 2 Axes>"
      ]
     },
     "metadata": {
      "needs_background": "light"
     },
     "output_type": "display_data"
    }
   ],
   "source": [
    "# Compute evaluation metrics\n",
    "print_metrics(y_train, y_train_knn_preds, y_test, y_test_knn_preds)\n",
    "\n",
    "# Plot confusion matrix of test set\n",
    "cnf_matrix(clf, y_test, y_test_knn_preds)"
   ]
  },
  {
   "cell_type": "markdown",
   "metadata": {},
   "source": [
    "This model did not show an improvement in the test set compared to the baseline model. This might be because only the default hyperparameters were used. In the next model, a more advanced method was used to search for the optimmum hyperparameters."
   ]
  },
  {
   "cell_type": "markdown",
   "metadata": {},
   "source": [
    "### Model 3: KNN with Parameter Tuning"
   ]
  },
  {
   "cell_type": "markdown",
   "metadata": {},
   "source": [
    "Here we try to improve the performance of the KNN model. This was done by finding an optimal value of K through some iterative investigation. The best way to find an optimal value for K is to choose a minimum and maximum boundary and try them all!"
   ]
  },
  {
   "cell_type": "code",
   "execution_count": 28,
   "metadata": {},
   "outputs": [
    {
     "name": "stdout",
     "output_type": "stream",
     "text": [
      "Fitting 10 folds for each of 30 candidates, totalling 300 fits\n"
     ]
    },
    {
     "name": "stderr",
     "output_type": "stream",
     "text": [
      "[Parallel(n_jobs=1)]: Using backend SequentialBackend with 1 concurrent workers.\n",
      "[Parallel(n_jobs=1)]: Done 300 out of 300 | elapsed:  1.3min finished\n"
     ]
    }
   ],
   "source": [
    "# Instantiate the model\n",
    "knn = KNeighborsClassifier()\n",
    "\n",
    "# Define a range for K values\n",
    "k_range = list(range(1, 31))\n",
    "\n",
    "# Add K values to be iterated to a dictionary\n",
    "param_grid = dict(n_neighbors=k_range)\n",
    "\n",
    "# Instantiate GridSearchClass\n",
    "grid = GridSearchCV(knn, param_grid, cv=10, scoring='accuracy', return_train_score=False,verbose=1)\n",
    "\n",
    "# Fitting the model for grid search\n",
    "grid_search=grid.fit(X_train_full, y_train)"
   ]
  },
  {
   "cell_type": "markdown",
   "metadata": {},
   "source": [
    "Once the model is fit, we can find the optimal parameter of K and the best score obtained through GridSearchCV."
   ]
  },
  {
   "cell_type": "code",
   "execution_count": 29,
   "metadata": {},
   "outputs": [
    {
     "name": "stdout",
     "output_type": "stream",
     "text": [
      "{'n_neighbors': 7}\n",
      "Accuracy for our training dataset with tuning is : 81.88%\n"
     ]
    }
   ],
   "source": [
    "# Use best_params_ method to parameters for this estimator\n",
    "print(grid_search.best_params_)\n",
    "\n",
    "# Get mean cross-validated score of the best_estimator\n",
    "accuracy = grid_search.best_score_ *100\n",
    "print(\"Accuracy for our training dataset with tuning is : {:.2f}%\".format(accuracy) )"
   ]
  },
  {
   "cell_type": "markdown",
   "metadata": {},
   "source": [
    "After parameter tuning, we now have the best hyperparameter of K=7, this can be used to fit a KNN model and check its accuracy on the unseen test dataset."
   ]
  },
  {
   "cell_type": "code",
   "execution_count": 30,
   "metadata": {},
   "outputs": [],
   "source": [
    "# Instantiate the model\n",
    "knn_k_7 = KNeighborsClassifier(n_neighbors=7)\n",
    "\n",
    "# Fit model on the training data\n",
    "knn_k_7.fit(X_train_full, y_train)\n",
    "\n",
    "# Predict training\n",
    "y_train_k7_preds = knn_k_7.predict(X_train_full)\n",
    "\n",
    "# Predict test\n",
    "y_test_k7_preds = knn_k_7.predict(X_test_full)"
   ]
  },
  {
   "cell_type": "markdown",
   "metadata": {},
   "source": [
    "To evaluate this tuned KNN model, plot the confusion matrix and display precision, accuracy and RMSE classification metrics."
   ]
  },
  {
   "cell_type": "code",
   "execution_count": 32,
   "metadata": {},
   "outputs": [
    {
     "name": "stdout",
     "output_type": "stream",
     "text": [
      "Training Precision:  0.7694300518134715\n",
      "Testing Precision:  0.5714285714285714\n",
      "\n",
      "\n",
      "Training Accuracy:  0.8530666666666666\n",
      "Testing Accuracy:  0.8072\n",
      "\n",
      "\n",
      "Training RMSE: 0.3833188403057347\n",
      "Testing RMSE: 0.43908996800200295\n"
     ]
    }
   ],
   "source": [
    "# Compute evaluation metrics\n",
    "print_metrics(y_train, y_train_k7_preds, y_test, y_test_k7_preds)"
   ]
  },
  {
   "cell_type": "code",
   "execution_count": 33,
   "metadata": {},
   "outputs": [
    {
     "data": {
      "image/png": "[encoded data removed]",
      "text/plain": [
       "<Figure size 432x288 with 2 Axes>"
      ]
     },
     "metadata": {
      "needs_background": "light"
     },
     "output_type": "display_data"
    }
   ],
   "source": [
    "# Plot confusion matrix of test set\n",
    "cnf_matrix(knn_k_7, y_test, y_test_k7_preds)"
   ]
  },
  {
   "cell_type": "markdown",
   "metadata": {},
   "source": [
    "There is an improvement in performance on the test data evaluation metrics. Precision increased from 54% to 57%, accuracy from 80% to 81% while RMSE reduced from 0.44 to 0.43. Parameter tuning seems to have a had a positive effect on model performance.\n",
    "\n",
    "Next, ensemble methods were used to try and improve these metrics.\n"
   ]
  },
  {
   "cell_type": "markdown",
   "metadata": {},
   "source": [
    "## Model 5: Random Forest with Tuned Hyperparameters"
   ]
  },
  {
   "cell_type": "markdown",
   "metadata": {},
   "source": [
    "Here an attempt was made to find the optimum parameters to use in the model. First, a the param_grid dictionary was defined. In this dictionary, each key represents a parameter we want to tune and each corresponding value is a list of every parameter value we'd like to check for that parameter."
   ]
  },
  {
   "cell_type": "code",
   "execution_count": 87,
   "metadata": {},
   "outputs": [],
   "source": [
    "# Instantiate and fit a RandomForestClassifier \n",
    "forest = RandomForestClassifier(max_depth=5, n_estimators=100, random_state=23)\n",
    "\n",
    "# Dictionary of parameters to tune\n",
    "rf_param_grid = {\n",
    "    \"n_estimators\": [40, 50, 75],\n",
    "    \"criterion\": [\"gini\", \"entropy\"],\n",
    "    \"max_depth\": [5],\n",
    "    \"min_samples_split\": [2, 4, 10],\n",
    "    \"min_samples_leaf\": [1, 3]}"
   ]
  },
  {
   "cell_type": "markdown",
   "metadata": {},
   "source": [
    "K-Fold cross-validation was implemented during this step. Set K = 3, meaning that 3 different models were trained for each unique combination of parameters."
   ]
  },
  {
   "cell_type": "markdown",
   "metadata": {},
   "source": [
    "How many different decision trees will GridSearchCV have to train in order to try every possible combination and find the best parameter choices?"
   ]
  },
  {
   "cell_type": "code",
   "execution_count": 88,
   "metadata": {},
   "outputs": [
    {
     "name": "stdout",
     "output_type": "stream",
     "text": [
      "Grid Search will have to search through 288 different permutations.\n"
     ]
    }
   ],
   "source": [
    "# Compute number of models iterated over to get best combination\n",
    "num_decision_trees = 3 * 3 * 2 * 4 * 2 * 2\n",
    "\n",
    "print(\n",
    "    f\"Grid Search will have to search through {num_decision_trees} different permutations.\"\n",
    ")"
   ]
  },
  {
   "cell_type": "markdown",
   "metadata": {},
   "source": [
    "Tune the model parameters through an exhaustive search by instantiating and fitting the GridSearchCV class."
   ]
  },
  {
   "cell_type": "code",
   "execution_count": 89,
   "metadata": {},
   "outputs": [
    {
     "name": "stdout",
     "output_type": "stream",
     "text": [
      "Training Accura: 85.37%\n",
      "\n",
      "Optimal Parameters: {'criterion': 'gini', 'max_depth': 5, 'min_samples_leaf': 3, 'min_samples_split': 10, 'n_estimators': 40}\n"
     ]
    }
   ],
   "source": [
    "# Instantiate model to be tuned\n",
    "rf = RandomForestClassifier(random_state=23)\n",
    "\n",
    "# Instantiate and fit GridSearchCV to training data\n",
    "rf_grid_search = GridSearchCV(forest, rf_param_grid, cv=3, scoring=None)\n",
    "rf_grid_search.fit(X_train_full, y_train)\n",
    "\n",
    "# Print parameter setting that gave the best results and its score\n",
    "print(f\"Training Accura: {rf_grid_search.best_score_ :.2%}\")\n",
    "print(\"\")\n",
    "print(f\"Optimal Parameters: {rf_grid_search.best_params_}\")"
   ]
  },
  {
   "cell_type": "markdown",
   "metadata": {},
   "source": [
    "Using the optimal parameters from the search above, instantiate a RandomForestClassifier, fit it on the training set and generate predictions."
   ]
  },
  {
   "cell_type": "code",
   "execution_count": 90,
   "metadata": {},
   "outputs": [],
   "source": [
    "# Instantiate the model with optimized hyperparameters\n",
    "rf_tuned = RandomForestClassifier(criterion='gini', max_depth=5,\n",
    "                                  min_samples_leaf=3, min_samples_split=10, \n",
    "                                  n_estimators=40, random_state=23)\n",
    "\n",
    "# Fit the model on the training data\n",
    "rf_tuned.fit(X_train_full, y_train)\n",
    "\n",
    "# Generate predictions\n",
    "y_train_rf2_preds = rf_tuned.predict(X_train_full)\n",
    "y_test_rf2_preds = rf_tuned.predict(X_test_full)"
   ]
  },
  {
   "cell_type": "markdown",
   "metadata": {},
   "source": [
    "Plot a confusion matrix and display precision, accuracy and RMSE classification metrics to evaluate performance of the model."
   ]
  },
  {
   "cell_type": "code",
   "execution_count": 91,
   "metadata": {},
   "outputs": [
    {
     "name": "stdout",
     "output_type": "stream",
     "text": [
      "Training Precision:  0.8868613138686131\n",
      "Testing Precision:  0.875\n",
      "\n",
      "\n",
      "Training Accuracy:  0.8541333333333333\n",
      "Testing Accuracy:  0.85\n",
      "\n",
      "\n",
      "Training RMSE: 0.3819249489974001\n",
      "Testing RMSE: 0.3872983346207417\n"
     ]
    },
    {
     "data": {
      "image/png": "[encoded data removed]",
      "text/plain": [
       "<Figure size 432x288 with 2 Axes>"
      ]
     },
     "metadata": {
      "needs_background": "light"
     },
     "output_type": "display_data"
    }
   ],
   "source": [
    "# Compute evaluation metrics\n",
    "print_metrics(y_train, y_train_rf2_preds, y_test, y_test_rf2_preds)\n",
    "\n",
    "# Plot confusion matrix of test set\n",
    "cnf_matrix(rf_tuned, y_test, y_test_rf2_preds)"
   ]
  },
  {
   "cell_type": "markdown",
   "metadata": {},
   "source": [
    "There is an increase in accuracy but a decrease in precision. There is a noticeable increase in overfitting in this model as seen in the increase in the difference between training and test set metrics. "
   ]
  },
  {
   "cell_type": "markdown",
   "metadata": {},
   "source": [
    "### Model 5: Random Forest with tuned parameters"
   ]
  },
  {
   "cell_type": "markdown",
   "metadata": {},
   "source": [
    "To reduce overfitting, feature selection was done below using a Filter Method called `SelectKBest`. This transformer uses a particular statistic to compare features to the target one by one. Then it selects the top `k` features based on this statistic. The default `k` is 10.\n",
    "Below `f_regression` statistic was tried."
   ]
  },
  {
   "cell_type": "code",
   "execution_count": 92,
   "metadata": {},
   "outputs": [],
   "source": [
    "# Create an instance of SelectKBest with f_regression scoring function\n",
    "selector = SelectKBest(score_func=f_regression, k=9)\n",
    "\n",
    "# Fit and transform the feature selector to the data\n",
    "X_train_k_best = selector.fit_transform(X_train_full, y_train)\n",
    "\n",
    "# Transform the testing data\n",
    "X_test_k_best = selector.transform(X_test_full)"
   ]
  },
  {
   "cell_type": "markdown",
   "metadata": {},
   "source": [
    "`X_train_k_best` and `X_test_k_best` now contain our top k features. Next create an instance of `GridSearchCV`, passing the random forest classifier and the parameter grid. We also specify cv=3 to perform 3-fold cross-validation.\n",
    "\n",
    "Then fit the grid search to the training data using the fit method. This will perform an exhaustive search over the specified parameter grid, training and evaluating the random forest classifier for each parameter combination. After the grid search is complete, retrieve the best parameter combination using best_params_ and its score using best_score_ method."
   ]
  },
  {
   "cell_type": "code",
   "execution_count": 93,
   "metadata": {},
   "outputs": [
    {
     "name": "stdout",
     "output_type": "stream",
     "text": [
      "Training Accuracy: 86.01%\n",
      "\n",
      "Optimal Parameters: {'criterion': 'entropy', 'max_depth': 5, 'min_samples_leaf': 1, 'min_samples_split': 2, 'n_estimators': 50}\n"
     ]
    }
   ],
   "source": [
    "# Create a random forest classifier\n",
    "rf3 = RandomForestClassifier(random_state=23)\n",
    "\n",
    "# Create an instance of GridSearchCV\n",
    "rf3_grid_search = GridSearchCV(rf3, rf_param_grid, cv=3)\n",
    "\n",
    "# Fit the grid search to the training data\n",
    "rf3_grid_search.fit(X_train_k_best, y_train)\n",
    "\n",
    "# Print the best parameter combination and its score\n",
    "print(f\"Training Accuracy: {rf3_grid_search.best_score_ :.2%}\")\n",
    "print(\"\")\n",
    "print(f\"Optimal Parameters: {rf3_grid_search.best_params_}\")"
   ]
  },
  {
   "cell_type": "markdown",
   "metadata": {},
   "source": [
    "Use the optimized hyperparameters from the GridSearch to build a model."
   ]
  },
  {
   "cell_type": "code",
   "execution_count": 96,
   "metadata": {},
   "outputs": [],
   "source": [
    "# Create a random forest classifier\n",
    "rf3_tuned = RandomForestClassifier(criterion='entropy', max_depth=5,\n",
    "                                  min_samples_leaf=1, min_samples_split=2, \n",
    "                                  n_estimators=50, random_state=23)\n",
    "\n",
    "# Fit classifier on training data\n",
    "rf3_tuned.fit(X_train_k_best, y_train)\n",
    "\n",
    "# Generate predictions\n",
    "y_train_rf3_preds = rf3_tuned.predict(X_train_k_best)\n",
    "y_test_rf3_preds = rf3_tuned.predict(X_test_k_best)"
   ]
  },
  {
   "cell_type": "markdown",
   "metadata": {},
   "source": [
    "Plot a confusion matrix and display precision, accuracy and RMSE classification metrics to evaluate performance of the model."
   ]
  },
  {
   "cell_type": "code",
   "execution_count": 97,
   "metadata": {},
   "outputs": [
    {
     "name": "stdout",
     "output_type": "stream",
     "text": [
      "Training Precision:  0.8569321533923304\n",
      "Testing Precision:  0.819672131147541\n",
      "\n",
      "\n",
      "Training Accuracy:  0.8621333333333333\n",
      "Testing Accuracy:  0.8548\n",
      "\n",
      "\n",
      "Training RMSE: 0.37130400841718186\n",
      "Testing RMSE: 0.381051177665153\n"
     ]
    },
    {
     "data": {
      "image/png": "[encoded data removed]",
      "text/plain": [
       "<Figure size 432x288 with 2 Axes>"
      ]
     },
     "metadata": {
      "needs_background": "light"
     },
     "output_type": "display_data"
    }
   ],
   "source": [
    "# Compute evaluation metrics\n",
    "print_metrics(y_train, y_train_rf3_preds, y_test, y_test_rf3_preds)\n",
    "\n",
    "# Plot confusion matrix of test set\n",
    "cnf_matrix(rf3_tuned, y_test, y_test_rf3_preds)"
   ]
  },
  {
   "cell_type": "markdown",
   "metadata": {},
   "source": [
    "There is a slight decrease in overfitting in this model as seen in the decrease in the difference between training and test RMSE. Testing set accuracy and precision have increased slightly."
   ]
  },
  {
   "cell_type": "markdown",
   "metadata": {},
   "source": [
    "## Results"
   ]
  },
  {
   "cell_type": "markdown",
   "metadata": {},
   "source": [
    "This project took an iterative approach to modeling by building multiple models. It began with a basic Logistic Regression model and subsequently built more models to improve on it. To appropriately choose a final model, all the classification metrics are plotted below to visually compare performance.\n",
    "\n",
    "Below is a plot of precion and accuracy of testing data for all the models."
   ]
  },
  {
   "cell_type": "code",
   "execution_count": 100,
   "metadata": {},
   "outputs": [
    {
     "data": {
      "image/png": "[encoded data removed]",
      "text/plain": [
       "<Figure size 864x576 with 1 Axes>"
      ]
     },
     "metadata": {},
     "output_type": "display_data"
    }
   ],
   "source": [
    "# Create a dataframe containing performance metricse for testing data\n",
    "data = {'Category': ['Model 1', 'Model 1', 'Model 2', 'Model 2', 'Model 3','Model 3',\n",
    "                     'Model 4', 'Model 4', 'Model 5', 'Model 5'],\n",
    "        'Group': ['Precision', 'Accuracy', 'Precision', 'Accuracy', 'Precision', 'Accuracy',\n",
    "                 'Precision', 'Accuracy', 'Precision', 'Accuracy'],\n",
    "        'Value': [59.2, 80.8, 54.8, 80.4, 57.1, 80.7, 87.5, 85, 82, 85]}\n",
    "df = pd.DataFrame(data)\n",
    "\n",
    "# Plot grouped barplot using Seaborn\n",
    "sns.set(style='whitegrid')\n",
    "plt.figure(figsize=(12, 8))\n",
    "\n",
    "sns.barplot(x='Category', y='Value', hue='Group', data=df)\n",
    "plt.xlabel('Models')\n",
    "plt.ylabel('Metric Performance (%)')\n",
    "plt.title('Plot of Model Precision and Accuracy')\n",
    "\n",
    "plt.legend(loc='upper left')\n",
    "plt.show()"
   ]
  },
  {
   "cell_type": "markdown",
   "metadata": {},
   "source": [
    "Below plot a barplot of RMSEs of all the models."
   ]
  },
  {
   "cell_type": "code",
   "execution_count": 101,
   "metadata": {},
   "outputs": [
    {
     "data": {
      "image/png": "[encoded data removed]",
      "text/plain": [
       "<Figure size 864x576 with 1 Axes>"
      ]
     },
     "metadata": {},
     "output_type": "display_data"
    }
   ],
   "source": [
    "# Create a dataframe of model RMSEs\n",
    "data = {'Category': ['Model 1', 'Model 1', 'Model 2', 'Model 2', 'Model 3','Model 3',\n",
    "                     'Model 4', 'Model 4', 'Model 5', 'Model 5'],\n",
    "        'Group': ['Training RMSE', 'Testing RMSE', 'Training RMSE', 'Testing RMSE', 'Training RMSE', 'Testing RMSE',\n",
    "                 'Training RMSE', 'Testing RMSE', 'Training RMSE', 'Testing RMSE'],\n",
    "        'Value': [0.44, 0.44, 0.37, 0.44, 0.38, 0.44, 0.38, 0.39, 0.37, 0.38]}\n",
    "df = pd.DataFrame(data)\n",
    "\n",
    "# Plot grouped barplot using Seaborn\n",
    "sns.set(style='whitegrid')\n",
    "plt.figure(figsize=(12, 8))\n",
    "\n",
    "sns.barplot(x='Category', y='Value', hue='Group', data=df)\n",
    "plt.xlabel('Models')\n",
    "plt.ylabel('RMSE')\n",
    "plt.title('Plot of Model Root Mean Squared Error')\n",
    "\n",
    "plt.legend()\n",
    "plt.show()"
   ]
  },
  {
   "cell_type": "markdown",
   "metadata": {},
   "source": [
    "Looking at the precision and accuarcy plot, model 6 had the highest accuracy while model 4 had the highest precision. Model 4 is the best model since it had the highest combined precision and accuracy. In the RMSE plot, model 4 had the least amount of overfitting since it had fairly similar training and test RMSE.\n",
    "\n",
    "**`Model 4`** is therefore selected as the `final model`. It is an ensemble algorithm that used a `Random Forest Classifier`. It had the highest combined accuracy and precision and the least amount of overfitting. Model 4 had an accuracy of about 85% meaning that out of all the predictions this model made, 85% were correct. It had a precision of 87.5% meaning that out of  all the times the model said a customer churned, the customer in question actually churned 87.5% of the time."
   ]
  },
  {
   "cell_type": "markdown",
   "metadata": {},
   "source": [
    "## Conclusion"
   ]
  },
  {
   "cell_type": "markdown",
   "metadata": {},
   "source": [
    "In conclusion, the final model demonstrated the power and effectiveness of analyzing the Bank Customer Churn dataset and predicting customer churn. Through careful hyperparameter tuning and model selection , a robust classification model capable of accurately predicting customer churn was successfully developed. \n",
    "\n",
    "An analysis and evaluation of various machine models i.e. logistic regression, K-nearest neighhbors, decision trees and random forests, provided valuable insights into theirt performance. Ultimately, model 4, a random forest model, was chosen as the most suitable choice, delivering the best performance metrics, including high accuracy and precision. By splitting the dataset into training and testing sets, the model's performance was validated on unseen data, minimizing the risk of overfitting. By using a Random Forest algorithm, various individual decision trees were built on different samples and their majority vote taken as the prediction. The model employed scikit-learn's GridSearchCV tor perform hyperparameter tuning and model selection. It automated the process of exhaustively searching through a specified hyperparameter grid to find the best combination of hyperparameters for the given estimator. Cross-validation was done to ensure the generalizability of the model.\n",
    "\n",
    "The deployment of this classification model has the potential to offer tangible benefits to the bank executives. By automating the process of categorizing new instances based on historical bank customer data, this model can assist the executives make decisions on proactive measures to take to mitigate customer churn such as targeted advertising and offers.\n",
    "\n",
    "Nevertheless, it is essential to acknowledge the limitations of this study. These include class imbalance, overfitting and limited training data. Additionally, as the nature of the problem and data evolve, the model should be regularly re-evaluated and updated with more current data to maintain its efficacy.\n",
    "\n",
    "In conclusion, our Random Forest classification model has demonstrated its capability to accurately classify customer churn instances based on the provided features. Its performance, generalizability, and potential for real-world application by the bank executives make it a valuable tool for decision-making processes."
   ]
  },
  {
   "cell_type": "code",
   "execution_count": null,
   "metadata": {},
   "outputs": [],
   "source": []
  }
 ],
 "metadata": {
  "kernelspec": {
   "display_name": "Python 3",
   "language": "python",
   "name": "python3"
  },
  "language_info": {
   "codemirror_mode": {
    "name": "ipython",
    "version": 3
   },
   "file_extension": ".py",
   "mimetype": "text/x-python",
   "name": "python",
   "nbconvert_exporter": "python",
   "pygments_lexer": "ipython3",
   "version": "3.8.5"
  }
 },
 "nbformat": 4,
 "nbformat_minor": 4
}
